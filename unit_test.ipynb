{
 "cells": [
  {
   "cell_type": "code",
   "execution_count": 2,
   "metadata": {},
   "outputs": [
    {
     "name": "stdout",
     "output_type": "stream",
     "text": [
      "The autoreload extension is already loaded. To reload it, use:\n",
      "  %reload_ext autoreload\n"
     ]
    }
   ],
   "source": [
    "from simulation.patient import Patient\n",
    "from simulation.department import Department\n",
    "from simulation.simulation import Simulation\n",
    "\n",
    "%load_ext autoreload\n",
    "%autoreload 2"
   ]
  },
  {
   "cell_type": "code",
   "execution_count": null,
   "metadata": {},
   "outputs": [],
   "source": [
    "# Test 1: No Infection Spread\n",
    "def test_1(path):\n",
    "    simulation = Simulation(movement_data_path=path, \n",
    "                        cleaned=True, initial_info=None, initial_patients=None,\n",
    "                        uniform_alpha=0.5, uniform_beta=0.5, uniform_gamma=0.5,\n",
    "                        test=True)\n",
    "    simulation.simulate()\n",
    "\n",
    "test_1(path=\"simulation/test_data/test_dataset_1.csv\")\n",
    "# Test 2: Rapid Patient Turnover\n",
    "\n",
    "\n",
    "\n",
    "# Test 3: Long Range Infection"
   ]
  }
 ],
 "metadata": {
  "kernelspec": {
   "display_name": "base",
   "language": "python",
   "name": "python3"
  },
  "language_info": {
   "codemirror_mode": {
    "name": "ipython",
    "version": 3
   },
   "file_extension": ".py",
   "mimetype": "text/x-python",
   "name": "python",
   "nbconvert_exporter": "python",
   "pygments_lexer": "ipython3",
   "version": "3.11.4"
  }
 },
 "nbformat": 4,
 "nbformat_minor": 2
}
