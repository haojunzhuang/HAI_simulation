{
 "cells": [
  {
   "cell_type": "markdown",
   "metadata": {},
   "source": [
    "# NO REAL DATA"
   ]
  },
  {
   "cell_type": "code",
   "execution_count": 58,
   "metadata": {},
   "outputs": [
    {
     "name": "stdout",
     "output_type": "stream",
     "text": [
      "The autoreload extension is already loaded. To reload it, use:\n",
      "  %reload_ext autoreload\n"
     ]
    }
   ],
   "source": [
    "from simulation.patient import Patient\n",
    "from simulation.department import Department\n",
    "from simulation.simulation import Simulation\n",
    "\n",
    "%load_ext autoreload\n",
    "%autoreload 2"
   ]
  },
  {
   "cell_type": "code",
   "execution_count": 59,
   "metadata": {},
   "outputs": [],
   "source": [
    "p1 = Patient('123', {'age': 42})"
   ]
  },
  {
   "cell_type": "code",
   "execution_count": 60,
   "metadata": {},
   "outputs": [
    {
     "name": "stdout",
     "output_type": "stream",
     "text": [
      "[Patient] - ID: 123, Status: \u001b[92m  healthy\u001b[0m, Info: [age: 42]\n"
     ]
    }
   ],
   "source": [
    "print(p1)"
   ]
  },
  {
   "cell_type": "code",
   "execution_count": 61,
   "metadata": {},
   "outputs": [],
   "source": [
    "p2 = Patient('456', {'age': 57})"
   ]
  },
  {
   "cell_type": "code",
   "execution_count": 62,
   "metadata": {},
   "outputs": [],
   "source": [
    "d1 = Department('A', [p1, p2], {'beta': 0.01})"
   ]
  },
  {
   "cell_type": "code",
   "execution_count": 63,
   "metadata": {},
   "outputs": [
    {
     "name": "stdout",
     "output_type": "stream",
     "text": [
      "+-+-+-+-+-+-+-+-+-+-+-+-+-+-+-+-+\n",
      "[Department]\n",
      "Name: A\n",
      "Total Patients: 2\n",
      "Patient Details:\n",
      " [Patient] - ID: 123, Status: \u001b[92m  healthy\u001b[0m, Info: [age: 42]\n",
      " [Patient] - ID: 456, Status: \u001b[92m  healthy\u001b[0m, Info: [age: 57]\n",
      "Department Info: {'beta': 0.01}\n",
      "---------------------------------\n",
      "\n"
     ]
    }
   ],
   "source": [
    "d1.verbose_info()"
   ]
  },
  {
   "cell_type": "code",
   "execution_count": 64,
   "metadata": {},
   "outputs": [
    {
     "name": "stdout",
     "output_type": "stream",
     "text": [
      "+-+-+-+-+-+-+-+-+-+-+-+-+-+-+-+-+\n",
      "[Department]\n",
      "Name: A\n",
      "Total Patients: 2\n",
      "Patient Details:\n",
      " [Patient] - ID: 123, Status: \u001b[91m infected\u001b[0m, Info: [age: 42]\n",
      " [Patient] - ID: 456, Status: \u001b[92m  healthy\u001b[0m, Info: [age: 57]\n",
      "Department Info: {'beta': 0.01}\n",
      "---------------------------------\n",
      "\n"
     ]
    }
   ],
   "source": [
    "d1.patients[0].infect()\n",
    "d1.verbose_info()"
   ]
  },
  {
   "cell_type": "code",
   "execution_count": 65,
   "metadata": {},
   "outputs": [
    {
     "name": "stdout",
     "output_type": "stream",
     "text": [
      "+-+-+-+-+-+-+-+-+-+-+-+-+-+-+-+-+\n",
      "[Department]\n",
      "Name: A\n",
      "Total Patients: 2\n",
      "Patient Details:\n",
      " [Patient] - ID: 123, Status: \u001b[91m infected\u001b[0m, Info: [age: 42]\n",
      " [Patient] - ID: 456, Status: \u001b[93mrecovered\u001b[0m, Info: [age: 57]\n",
      "Department Info: {'beta': 0.01}\n",
      "---------------------------------\n",
      "\n"
     ]
    }
   ],
   "source": [
    "d1.patients[1].infect()\n",
    "d1.patients[1].recover()\n",
    "d1.verbose_info()"
   ]
  },
  {
   "cell_type": "code",
   "execution_count": 72,
   "metadata": {},
   "outputs": [
    {
     "name": "stderr",
     "output_type": "stream",
     "text": [
      "413114it [00:35, 11730.03it/s]\n",
      "/Users/hz9/dev/HAI_simulation/simulation/utils/data_utils.py:88: FutureWarning: Inferring datetime64[ns] from data containing strings is deprecated and will be removed in a future version. To retain the old behavior explicitly pass Series(data, dtype=datetime64[ns])\n",
      "  mvt = pd.DataFrame.from_dict(mvt)\n",
      "/Users/hz9/dev/HAI_simulation/simulation/utils/data_utils.py:146: FutureWarning: Inferring datetime64[ns] from data containing strings is deprecated and will be removed in a future version. To retain the old behavior explicitly pass Series(data, dtype=datetime64[ns])\n",
      "  mvt_compressed = pd.DataFrame.from_dict(mvt_compressed)\n"
     ]
    },
    {
     "name": "stdout",
     "output_type": "stream",
     "text": [
      "not considering: ['A3 M&B MB', 'A3 L&D MB', 'A6 SURG MB', 'A5 ONC MB', 'MZ 5 NORTH', 'A4 ICU MB', 'PERIOP PARN', 'C6 HEME/ONC MB', 'MZ 4 EAST', 'C5 MED/SURG MB', 'RAD CT PARN', 'C5 P TRANS MB', 'MZ 4 WEST ICU', 'C4 PICU MB', 'RAD ULTRASOUND PARN', 'BCH OAK 5 HEM ONC', 'BCH OAK SUMMIT 4 MEDICAL', '4E SURGERY MZ', 'PERIOP MZ', 'EMERGENCY DEPARTMENT MB', 'BCH OAK ED', 'PERIOP PREOP/PACU PARN', 'MB A5 ONC', 'BCH OAK 5 SURGICAL', 'RAD IR PARN', 'TRANSFER CENTER', 'RAD NEURO IR PARN', 'C4 PCTC MB', 'PERIOP MB', 'C6 BMT MB', 'MB A6 SURG', 'BCH OAK PICU 3', 'BCH OAK 4 SOUTH', 'RAD CT MB', 'CARDIAC CATH - ADULT', 'ACUTE HEMODIALYSIS PARN', 'RAD X-RAY PARN', 'C4 PCICU MB', 'A4 PCTC MB', 'BCH OAK PICU 4', 'ZZZRAD NEURO IR OLD', 'MB A3 L&D', 'C4 PCICU2 MB', 'BCH OAK 4 REHAB', 'MB C6 HEME/ONC', 'PRENATAL DIAGNOSTIC CTR (PDC) - GATEWAY 3 SOUTH', 'MB A4 ICU', 'RAD ONC PARN', 'RAD FLUOROSCOPY PARN', '11NE NEUR ICU', 'A4 PCICU MB', 'MB A3 M&B', 'PERIOP OR MZ', 'PULMONARY FUNC PARN', 'CARDIAC STRESS/ECG LAB PARN', 'RAD IR MZ', 'RAD NUCLEAR MED PARN', 'MB C5 MED/SURG', '12S MEDSURG-ONC/BMT C', 'ENDOSCOPY PARN', 'RAD ONC MB', 'BCH OAK MH PACU', 'MB C5 P TRANS', 'ELECTROPHYSIOLOGY LAB PARN', 'BCH OAK OPC PERIOPERATIVE', 'RAD PET PARN', 'RAD ULTRASOUND MB', 'MB C4 PICU', 'BCH OAK SUMMIT 5 MEDICAL', 'BCH OAK MH INTRAOP', 'RADIATION ONCOLOGY', 'RAD MR MB', 'RAD IR / C2683', '4 MEDSURG ICU MZ', 'Periop PACU MB Adult Extended Care', 'HOSPITAL MEDICINE-VIR', 'BCH OAK PERIOPERATIVE', 'PERIOP OR MB', 'PERIOP ENDO MB', 'PEDS ACCESS CENTER', 'MB C4 PCICU', 'MB C4 PCTC', 'MB C6 BMT', 'MEG ML', 'ELECTROPHYSIOLOGY HOLDING', 'PET PARN', 'MRI MZ', 'ZZZL AND D TRIAGE MB', 'FLUOROSCOPY MZ', 'MB C3 ICN', 'RAD X-RAY MB', 'RAD NURSE HOLDING / C1758', 'RAD ONC MZ DIVIS', 'PERIOP PRE/RECOVERY MB', 'ECHOCARDIO PARN ADULT', 'ORAL/MAXILLOFACIAL SURGERY', 'PDC IP ULTRASOUND MB', 'BCH OAK 3 SURGICAL', 'PED FETAL ECHO MB', 'PERIOP ENDO PREOP/PACU MB', 'KTU DOM TRANSPLT SVC', 'PERIOP OR PARN']\n"
     ]
    }
   ],
   "source": [
    "simulation = Simulation('data/movements.csv', cleaned=False, initial_patients=None, initial_info=None)"
   ]
  },
  {
   "cell_type": "code",
   "execution_count": 73,
   "metadata": {},
   "outputs": [
    {
     "data": {
      "text/plain": [
       "{'9L TRANSPLANT': Department Name: 9L TRANSPLANT\n",
       " Number of Patients: 0\n",
       " Infected: 0, Not Infected: 0\n",
       " Info: [β: 0.0],\n",
       " '8L NEUROSCIENCES': Department Name: 8L NEUROSCIENCES\n",
       " Number of Patients: 0\n",
       " Infected: 0, Not Infected: 0\n",
       " Info: [β: 0.0],\n",
       " '13I M/S ICU': Department Name: 13I M/S ICU\n",
       " Number of Patients: 0\n",
       " Infected: 0, Not Infected: 0\n",
       " Info: [β: 0.0],\n",
       " 'EMERGENCY DEPT PARN': Department Name: EMERGENCY DEPT PARN\n",
       " Number of Patients: 0\n",
       " Infected: 0, Not Infected: 0\n",
       " Info: [β: 0.0],\n",
       " '7L MUSCULOSKELETAL': Department Name: 7L MUSCULOSKELETAL\n",
       " Number of Patients: 0\n",
       " Infected: 0, Not Infected: 0\n",
       " Info: [β: 0.0],\n",
       " '10LS CVT': Department Name: 10LS CVT\n",
       " Number of Patients: 0\n",
       " Infected: 0, Not Infected: 0\n",
       " Info: [β: 0.0],\n",
       " 'PPU': Department Name: PPU\n",
       " Number of Patients: 0\n",
       " Infected: 0, Not Infected: 0\n",
       " Info: [β: 0.0],\n",
       " '12M MED/SURG/ACUTE TCU': Department Name: 12M MED/SURG/ACUTE TCU\n",
       " Number of Patients: 0\n",
       " Infected: 0, Not Infected: 0\n",
       " Info: [β: 0.0],\n",
       " '8S TCU': Department Name: 8S TCU\n",
       " Number of Patients: 0\n",
       " Infected: 0, Not Infected: 0\n",
       " Info: [β: 0.0],\n",
       " '14L MEDICINE': Department Name: 14L MEDICINE\n",
       " Number of Patients: 0\n",
       " Infected: 0, Not Infected: 0\n",
       " Info: [β: 0.0],\n",
       " '7E MED/SURG': Department Name: 7E MED/SURG\n",
       " Number of Patients: 0\n",
       " Infected: 0, Not Infected: 0\n",
       " Info: [β: 0.0],\n",
       " '6L NEUR TRAN': Department Name: 6L NEUR TRAN\n",
       " Number of Patients: 0\n",
       " Infected: 0, Not Infected: 0\n",
       " Info: [β: 0.0],\n",
       " '13L GEN SURG': Department Name: 13L GEN SURG\n",
       " Number of Patients: 0\n",
       " Infected: 0, Not Infected: 0\n",
       " Info: [β: 0.0],\n",
       " '15L ADULT ACUTE CARE': Department Name: 15L ADULT ACUTE CARE\n",
       " Number of Patients: 0\n",
       " Infected: 0, Not Infected: 0\n",
       " Info: [β: 0.0],\n",
       " '10NE CARD ICU': Department Name: 10NE CARD ICU\n",
       " Number of Patients: 0\n",
       " Infected: 0, Not Infected: 0\n",
       " Info: [β: 0.0],\n",
       " '11NE NICU': Department Name: 11NE NICU\n",
       " Number of Patients: 0\n",
       " Infected: 0, Not Infected: 0\n",
       " Info: [β: 0.0],\n",
       " '8 NICU': Department Name: 8 NICU\n",
       " Number of Patients: 0\n",
       " Infected: 0, Not Infected: 0\n",
       " Info: [β: 0.0],\n",
       " '14M MS-HI-ACUITY': Department Name: 14M MS-HI-ACUITY\n",
       " Number of Patients: 0\n",
       " Infected: 0, Not Infected: 0\n",
       " Info: [β: 0.0],\n",
       " '12L MEDSURG-ONC/BMT A': Department Name: 12L MEDSURG-ONC/BMT A\n",
       " Number of Patients: 0\n",
       " Infected: 0, Not Infected: 0\n",
       " Info: [β: 0.0],\n",
       " '6ICC': Department Name: 6ICC\n",
       " Number of Patients: 0\n",
       " Infected: 0, Not Infected: 0\n",
       " Info: [β: 0.0],\n",
       " '11L MEDSURG-ONC/BMT B': Department Name: 11L MEDSURG-ONC/BMT B\n",
       " Number of Patients: 0\n",
       " Infected: 0, Not Infected: 0\n",
       " Info: [β: 0.0],\n",
       " '9NE M/S ICU': Department Name: 9NE M/S ICU\n",
       " Number of Patients: 0\n",
       " Infected: 0, Not Infected: 0\n",
       " Info: [β: 0.0]}"
      ]
     },
     "execution_count": 73,
     "metadata": {},
     "output_type": "execute_result"
    }
   ],
   "source": [
    "simulation.nodes"
   ]
  },
  {
   "cell_type": "code",
   "execution_count": 69,
   "metadata": {},
   "outputs": [],
   "source": [
    "simulation = Simulation('toy_data/toy_movements.csv', cleaned=True, initial_patients=None, initial_info=None)"
   ]
  },
  {
   "cell_type": "code",
   "execution_count": 70,
   "metadata": {},
   "outputs": [
    {
     "data": {
      "text/plain": [
       "{'Foo': Department Name: Foo\n",
       " Number of Patients: 0\n",
       " Infected: 0, Not Infected: 0\n",
       " Info: [β: 0.0],\n",
       " 'Bar': Department Name: Bar\n",
       " Number of Patients: 0\n",
       " Infected: 0, Not Infected: 0\n",
       " Info: [β: 0.0]}"
      ]
     },
     "execution_count": 70,
     "metadata": {},
     "output_type": "execute_result"
    }
   ],
   "source": [
    "simulation.nodes"
   ]
  },
  {
   "cell_type": "code",
   "execution_count": 71,
   "metadata": {},
   "outputs": [
    {
     "data": {
      "text/plain": [
       "({'Foo': [], 'Bar': []}, {'Foo': {'β': 0.0}, 'Bar': {'β': 0.0}})"
      ]
     },
     "execution_count": 71,
     "metadata": {},
     "output_type": "execute_result"
    }
   ],
   "source": [
    "simulation.export_checkpoint()"
   ]
  },
  {
   "cell_type": "code",
   "execution_count": null,
   "metadata": {},
   "outputs": [],
   "source": []
  }
 ],
 "metadata": {
  "kernelspec": {
   "display_name": "haojun",
   "language": "python",
   "name": "python3"
  },
  "language_info": {
   "codemirror_mode": {
    "name": "ipython",
    "version": 3
   },
   "file_extension": ".py",
   "mimetype": "text/x-python",
   "name": "python",
   "nbconvert_exporter": "python",
   "pygments_lexer": "ipython3",
   "version": "3.11.4"
  }
 },
 "nbformat": 4,
 "nbformat_minor": 2
}
