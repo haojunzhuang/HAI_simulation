{
 "cells": [
  {
   "cell_type": "markdown",
   "metadata": {},
   "source": [
    "# for temporary test only"
   ]
  },
  {
   "cell_type": "code",
   "execution_count": 1,
   "metadata": {},
   "outputs": [],
   "source": [
    "from patient import Patient\n",
    "from department import Department\n",
    "\n",
    "%load_ext autoreload\n",
    "%autoreload 2"
   ]
  },
  {
   "cell_type": "code",
   "execution_count": 9,
   "metadata": {},
   "outputs": [],
   "source": [
    "p1 = Patient('123', {'age': 42})"
   ]
  },
  {
   "cell_type": "code",
   "execution_count": 10,
   "metadata": {},
   "outputs": [
    {
     "name": "stdout",
     "output_type": "stream",
     "text": [
      "[Patient] - ID: 123, Status: \u001b[92m  healthy\u001b[0m, Info: [age: 42]\n"
     ]
    }
   ],
   "source": [
    "print(p1)"
   ]
  },
  {
   "cell_type": "code",
   "execution_count": 11,
   "metadata": {},
   "outputs": [],
   "source": [
    "p2 = Patient('456', {'age': 57})"
   ]
  },
  {
   "cell_type": "code",
   "execution_count": 12,
   "metadata": {},
   "outputs": [],
   "source": [
    "d1 = Department('A', [p1, p2], {'beta': 0.01})"
   ]
  },
  {
   "cell_type": "code",
   "execution_count": 13,
   "metadata": {},
   "outputs": [
    {
     "name": "stdout",
     "output_type": "stream",
     "text": [
      "+-+-+-+-+-+-+-+-+-+-+-+-+-+-+-+-+\n",
      "[Department]\n",
      "Name: A\n",
      "Total Patients: 2\n",
      "Patient Details:\n",
      " [Patient] - ID: 123, Status: \u001b[92m  healthy\u001b[0m, Info: [age: 42]\n",
      " [Patient] - ID: 456, Status: \u001b[92m  healthy\u001b[0m, Info: [age: 57]\n",
      "Department Info: {'beta': 0.01}\n",
      "---------------------------------\n",
      "\n"
     ]
    }
   ],
   "source": [
    "d1.verbose_info()"
   ]
  },
  {
   "cell_type": "code",
   "execution_count": 14,
   "metadata": {},
   "outputs": [
    {
     "name": "stdout",
     "output_type": "stream",
     "text": [
      "+-+-+-+-+-+-+-+-+-+-+-+-+-+-+-+-+\n",
      "[Department]\n",
      "Name: A\n",
      "Total Patients: 2\n",
      "Patient Details:\n",
      " [Patient] - ID: 123, Status: \u001b[91m infected\u001b[0m, Info: [age: 42]\n",
      " [Patient] - ID: 456, Status: \u001b[92m  healthy\u001b[0m, Info: [age: 57]\n",
      "Department Info: {'beta': 0.01}\n",
      "---------------------------------\n",
      "\n"
     ]
    }
   ],
   "source": [
    "d1.patients[0].infect()\n",
    "d1.verbose_info()"
   ]
  },
  {
   "cell_type": "code",
   "execution_count": 15,
   "metadata": {},
   "outputs": [
    {
     "name": "stdout",
     "output_type": "stream",
     "text": [
      "+-+-+-+-+-+-+-+-+-+-+-+-+-+-+-+-+\n",
      "[Department]\n",
      "Name: A\n",
      "Total Patients: 2\n",
      "Patient Details:\n",
      " [Patient] - ID: 123, Status: \u001b[91m infected\u001b[0m, Info: [age: 42]\n",
      " [Patient] - ID: 456, Status: \u001b[93mrecovered\u001b[0m, Info: [age: 57]\n",
      "Department Info: {'beta': 0.01}\n",
      "---------------------------------\n",
      "\n"
     ]
    }
   ],
   "source": [
    "d1.patients[1].infect()\n",
    "d1.patients[1].recover()\n",
    "d1.verbose_info()"
   ]
  },
  {
   "cell_type": "code",
   "execution_count": null,
   "metadata": {},
   "outputs": [],
   "source": []
  }
 ],
 "metadata": {
  "kernelspec": {
   "display_name": "haojun",
   "language": "python",
   "name": "python3"
  },
  "language_info": {
   "codemirror_mode": {
    "name": "ipython",
    "version": 3
   },
   "file_extension": ".py",
   "mimetype": "text/x-python",
   "name": "python",
   "nbconvert_exporter": "python",
   "pygments_lexer": "ipython3",
   "version": "3.11.4"
  }
 },
 "nbformat": 4,
 "nbformat_minor": 2
}
